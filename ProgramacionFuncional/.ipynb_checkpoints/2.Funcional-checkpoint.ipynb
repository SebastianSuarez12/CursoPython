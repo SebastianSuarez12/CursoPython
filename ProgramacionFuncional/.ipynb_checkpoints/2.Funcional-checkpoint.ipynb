{
 "cells": [
  {
   "cell_type": "markdown",
   "id": "9bb8ab92",
   "metadata": {},
   "source": [
    "# Programación Funcional"
   ]
  },
  {
   "cell_type": "markdown",
   "id": "f680bb1a",
   "metadata": {},
   "source": [
    "Es un paradigma de programación, es que esta basada en funciones (rápidas, optimizadas y reutilizables). \n",
    "\n",
    "Basado en funciones, nuestro principal objetivo es tomar una entrada y entregar una salida."
   ]
  },
  {
   "cell_type": "markdown",
   "id": "0010b65f",
   "metadata": {},
   "source": [
    "## 1. Funciones básicas\n",
    "\n",
    "Son funciones que son explícitamente definidas (def)"
   ]
  },
  {
   "cell_type": "code",
   "execution_count": 1,
   "id": "6da30589",
   "metadata": {},
   "outputs": [
    {
     "name": "stdout",
     "output_type": "stream",
     "text": [
      "[8, 16, 18, 20]\n"
     ]
    }
   ],
   "source": [
    "numeros = [4,8,9,10]\n",
    "def duplicarLista(listaNumeros: list):\n",
    "    listaDuplicada = []\n",
    "    for numero in numeros:\n",
    "        listaDuplicada.append(numero*2)\n",
    "    return listaDuplicada\n",
    "\n",
    "print(duplicarLista(numeros))"
   ]
  },
  {
   "cell_type": "markdown",
   "id": "4b739a91",
   "metadata": {},
   "source": [
    "## 2. Funciones basadas en expresiones (lambda)\n",
    "\n",
    "No definicion explícita de la función (no utilizamos def), mantenemos las entradas y salidas pero lo hacemos a través de una expresión simbólica que representa la función que deseamos.\n",
    "\n",
    "Estructura para las expresiones lambda\n",
    "**(expresión lambda, variables)**\n",
    "\n",
    "Ejemplo con python\n",
    "\n",
    "*(lambda: operación, datos)*"
   ]
  },
  {
   "cell_type": "code",
   "execution_count": 4,
   "id": "d5a5dd10",
   "metadata": {},
   "outputs": [
    {
     "data": {
      "text/plain": [
       "[8, 16, 18, 20]"
      ]
     },
     "execution_count": 4,
     "metadata": {},
     "output_type": "execute_result"
    }
   ],
   "source": [
    "list(map(lambda n: n*2, numeros))"
   ]
  },
  {
   "cell_type": "markdown",
   "id": "5bfec39e",
   "metadata": {},
   "source": [
    "## 3. Funciones de python útiles\n",
    "\n",
    "Range y enumerate"
   ]
  },
  {
   "cell_type": "code",
   "execution_count": 6,
   "id": "5c5addb1",
   "metadata": {},
   "outputs": [
    {
     "name": "stdout",
     "output_type": "stream",
     "text": [
      "range(1, 5)\n",
      "(0, 52.2)\n",
      "(1, 65.58)\n",
      "(2, -0.29)\n"
     ]
    }
   ],
   "source": [
    "# Range permite generar un rango de números\n",
    "rango = range(1,5)\n",
    "print(rango)\n",
    "\n",
    "numeros2 = [52.2, 65.58, -0.29]\n",
    "# Enumerate: enumera los elementos\n",
    "enumerate(numeros2)\n",
    "for enumeracion in enumerate(numeros2):\n",
    "    print(enumeracion)"
   ]
  },
  {
   "cell_type": "markdown",
   "id": "7e84cef7",
   "metadata": {},
   "source": [
    "## 4. Operaciones en la programación funcional (map, zip, filter y reduce)\n",
    "\n",
    "Son operaciones reservadas y permiten aplicar nuestras expresiones de difernetes formas "
   ]
  },
  {
   "cell_type": "markdown",
   "id": "5cb257ff",
   "metadata": {},
   "source": [
    "### Map:\n",
    "\n",
    "Aplicar la operación sobre todos los elementos"
   ]
  },
  {
   "cell_type": "code",
   "execution_count": 10,
   "id": "69b6634f",
   "metadata": {},
   "outputs": [
    {
     "name": "stdout",
     "output_type": "stream",
     "text": [
      "7225\n",
      "9025\n",
      "8836\n",
      "[7225, 9025, 8836]\n",
      "[7225, 9025, 8836]\n"
     ]
    }
   ],
   "source": [
    "## Previamente\n",
    "\n",
    "def elevarCuadrado(item):\n",
    "    return item**2\n",
    "numeros3 = [85,95,94]\n",
    "\n",
    "for i in numeros3:\n",
    "    print(elevarCuadrado(i))\n",
    "    \n",
    "## Map\n",
    "\n",
    "print(list(map(elevarCuadrado, numeros3)))\n",
    "\n",
    "## Map bien hecho\n",
    "print(list(map(lambda x: x**2, numeros3)))"
   ]
  },
  {
   "cell_type": "markdown",
   "id": "128e816d",
   "metadata": {},
   "source": [
    "### Zip:\n",
    "\n",
    "Operación que nos permite comprimir dos estructuras (unir), las estructuras que le paso deben ser iterables, realiza la compresión hasta donde es posible"
   ]
  },
  {
   "cell_type": "code",
   "execution_count": 12,
   "id": "0b8954f4",
   "metadata": {},
   "outputs": [
    {
     "name": "stdout",
     "output_type": "stream",
     "text": [
      "[(50, 100), (70, 200), (80, 300)]\n",
      "[(99, 100), (100, 200), (101, 300)]\n"
     ]
    }
   ],
   "source": [
    "listaA = [50,70,80]\n",
    "listaB = [100,200,300]\n",
    "tuplaC = (99,100,101)\n",
    "print(list(zip(listaA, listaB)))\n",
    "print(list(zip(tuplaC, listaB)))"
   ]
  },
  {
   "cell_type": "markdown",
   "id": "fd51520b",
   "metadata": {},
   "source": [
    "### Filter:\n",
    "\n",
    "Operación que permite filtrar datos basados en una condición"
   ]
  },
  {
   "cell_type": "code",
   "execution_count": 18,
   "id": "55d231cb",
   "metadata": {},
   "outputs": [
    {
     "name": "stdout",
     "output_type": "stream",
     "text": [
      "['Anderson', 'Andres', 'Andres2']\n",
      "['Anderson', 'Andres', 'Andres2']\n"
     ]
    }
   ],
   "source": [
    "expresionEmpiezaA = lambda x: True if x.startswith('A') else False\n",
    "nombres = ['Anderson', 'Andres', 'Andres2', 'Bryan', 'Cristo', 'Freddy', 'Janeth']\n",
    "\n",
    "print(list(filter(lambda y: expresionEmpiezaA(y), nombres)))\n",
    "print(list(filter(lambda x: True if x.startswith('A') else False, nombres)))"
   ]
  },
  {
   "cell_type": "markdown",
   "id": "35319add",
   "metadata": {},
   "source": [
    "### Reduce \n",
    "\n",
    "Acumular valores f(g(h(i)))"
   ]
  },
  {
   "cell_type": "code",
   "execution_count": 19,
   "id": "eacce190",
   "metadata": {},
   "outputs": [
    {
     "name": "stdout",
     "output_type": "stream",
     "text": [
      "28\n"
     ]
    }
   ],
   "source": [
    "from functools import reduce\n",
    "\n",
    "def acumulador(n1,n2):\n",
    "    return n1 + n2\n",
    "\n",
    "print(reduce(acumulador, [2,5,6,7,8]))\n",
    "\n",
    "# \n",
    "# ((((2 + 5) + 6) + 7) + 8)"
   ]
  },
  {
   "cell_type": "markdown",
   "id": "e070eba9",
   "metadata": {},
   "source": [
    "### 5. List Comprehension\n",
    "\n",
    "[x 'expresion para crear lista']\n",
    "\n",
    "\n",
    "[x**2 for x in iterable]"
   ]
  },
  {
   "cell_type": "markdown",
   "id": "5c004e70",
   "metadata": {},
   "source": [
    "1. Creen una lista que tenga todos los numeros del 1 al 15 elevados al cuadrado"
   ]
  },
  {
   "cell_type": "code",
   "execution_count": 1,
   "id": "abf3ea56",
   "metadata": {},
   "outputs": [
    {
     "name": "stdout",
     "output_type": "stream",
     "text": [
      "[0, 1, 4, 9, 16, 25, 36, 49, 64, 81, 100, 121, 144, 169, 196, 225]\n"
     ]
    }
   ],
   "source": [
    "lista = [x**2 for x in range(16)]\n",
    "print(lista)"
   ]
  },
  {
   "cell_type": "markdown",
   "id": "21bca859",
   "metadata": {},
   "source": [
    "2. Vamos a tener una lista de valores y quiero crear una nueva lista la cual contenga aquellos valores que sean multiplos de 5 "
   ]
  },
  {
   "cell_type": "code",
   "execution_count": 2,
   "id": "c3c08be5",
   "metadata": {},
   "outputs": [
    {
     "name": "stdout",
     "output_type": "stream",
     "text": [
      "[0, 5, 15, 35, 50]\n"
     ]
    }
   ],
   "source": [
    "listaA = [0, 3, 5, 15, 17, 23, 35, 68, 71, 50]\n",
    "listaB = [x for x in listaA if x%5 == 0]\n",
    "print(listaB)"
   ]
  },
  {
   "cell_type": "markdown",
   "id": "9f752ea5",
   "metadata": {},
   "source": [
    "3. "
   ]
  },
  {
   "cell_type": "code",
   "execution_count": 16,
   "id": "adb2d540",
   "metadata": {},
   "outputs": [
    {
     "name": "stdout",
     "output_type": "stream",
     "text": [
      "[12, 12, 16, 34, 9, 11, 11, 15, 33, 8, 16, 16, 20, 38, 13, 20, 20, 24, 42, 17, 89, 89, 93, 111, 86]\n",
      "[12, 11, 20, 42, 86]\n",
      "[12, 11, 20, 42, 86]\n"
     ]
    }
   ],
   "source": [
    "listaC = [8, 7, 12, 16, 85]\n",
    "listaD = [4, 4, 8, 26, 1]\n",
    "listaE = [x+y for x in listaC for y in listaD]\n",
    "print(listaE)\n",
    "listaF = [listaC[i] + listaD[i] for i in range(len(listaC))]\n",
    "print(listaF)\n",
    "\n",
    "# Otra solucion\n",
    "\n",
    "listaH = list(map(sum, zip(listaC, listaD)))\n",
    "print(listaH)"
   ]
  },
  {
   "cell_type": "markdown",
   "id": "ca77ba4a",
   "metadata": {},
   "source": [
    "### 6. Exec y eval"
   ]
  },
  {
   "cell_type": "code",
   "execution_count": 18,
   "id": "f7ee1580",
   "metadata": {},
   "outputs": [
    {
     "data": {
      "text/plain": [
       "125"
      ]
     },
     "execution_count": 18,
     "metadata": {},
     "output_type": "execute_result"
    }
   ],
   "source": [
    "# Ejecutar un calculo a partir de una dependencia\n",
    "valores = {\n",
    "    'y':100\n",
    "}\n",
    "exec('x=y+25', valores)\n",
    "valores['x']"
   ]
  },
  {
   "cell_type": "code",
   "execution_count": 20,
   "id": "e98d491c",
   "metadata": {},
   "outputs": [
    {
     "data": {
      "text/plain": [
       "8"
      ]
     },
     "execution_count": 20,
     "metadata": {},
     "output_type": "execute_result"
    }
   ],
   "source": [
    "# Unicamente evaluar en una expresion\n",
    "\n",
    "x, y = 2, 3\n",
    "eval('2**x+y+1')"
   ]
  },
  {
   "cell_type": "markdown",
   "id": "7e797c24",
   "metadata": {},
   "source": [
    "### 7. Decorators\n",
    "\n",
    "Una función que devuelve otra función"
   ]
  },
  {
   "cell_type": "code",
   "execution_count": 22,
   "id": "66723a67",
   "metadata": {},
   "outputs": [
    {
     "data": {
      "text/plain": [
       "'Hola'"
      ]
     },
     "execution_count": 22,
     "metadata": {},
     "output_type": "execute_result"
    }
   ],
   "source": [
    "def saludar():\n",
    "    def hablar():\n",
    "        return 'Hola'\n",
    "    return hablar\n",
    "\n",
    "saludo = saludar()\n",
    "saludo()"
   ]
  },
  {
   "cell_type": "markdown",
   "id": "efee22f6",
   "metadata": {},
   "source": [
    "Podemos crear decoradores"
   ]
  },
  {
   "cell_type": "code",
   "execution_count": 24,
   "id": "41918a3c",
   "metadata": {},
   "outputs": [
    {
     "data": {
      "text/plain": [
       "'SALUDANDO ANDO...'"
      ]
     },
     "execution_count": 24,
     "metadata": {},
     "output_type": "execute_result"
    }
   ],
   "source": [
    "def hacerMayusculas(funcion):\n",
    "    def funcionar():\n",
    "        f = funcion()\n",
    "        ejecutar = f.upper()\n",
    "        return ejecutar\n",
    "    return funcionar\n",
    "\n",
    "@hacerMayusculas\n",
    "def saludar2():\n",
    "    return 'Saludando ando...'\n",
    "saludar2()"
   ]
  },
  {
   "cell_type": "markdown",
   "id": "37f4f379",
   "metadata": {},
   "source": [
    "## Ejercicios \n",
    "\n",
    "1. Dadas las listas C y D, se pide crear una nueva lista en la que sus elementos sean de la siguiente forma:\n",
    "[(x**y+89.5)/x-25], donde x es  el elemento de la lista C, y el elemento de la lista D"
   ]
  },
  {
   "cell_type": "code",
   "execution_count": 27,
   "id": "f98790e1",
   "metadata": {},
   "outputs": [
    {
     "data": {
      "text/plain": [
       "[487.0, 318.0, 35831783.0, 1.2676506002282294e+30, -24.0]"
      ]
     },
     "execution_count": 27,
     "metadata": {},
     "output_type": "execute_result"
    }
   ],
   "source": [
    "listaC = [8, 7, 12, 16, 85]\n",
    "listaD = [4, 4, 8, 26, 1]\n",
    "[(listaC[i]**listaD[i])/listaC[i]-25 for i in range(len(listaC))]\n",
    "\n",
    "# Otra solucion\n",
    "\n",
    "resultado = [ eval('(x**y+89.5)/x-25') x = listaC[i] y = listaD[i] for i in range(len(listaC))]"
   ]
  },
  {
   "cell_type": "markdown",
   "id": "e1fdecb4",
   "metadata": {},
   "source": [
    "2. ¿Como ordenar una lista con elementos de diferente tipo?"
   ]
  },
  {
   "cell_type": "code",
   "execution_count": 31,
   "id": "75826f80",
   "metadata": {},
   "outputs": [
    {
     "name": "stdout",
     "output_type": "stream",
     "text": [
      "[(0, True), (1, 'Zanahoria'), (2, 52), (3, 56.87), (4, 'Hprario')]\n"
     ]
    }
   ],
   "source": [
    "listaV = [True, 'Zanahoria', 52, 56.87, 'Hprario']\n",
    "listaW = list(enumerate(listaV))\n",
    "# listaV.sort()\n",
    "listaW.sort(key= lambda x: x[0])\n",
    "\n",
    "print(listaW)"
   ]
  },
  {
   "cell_type": "markdown",
   "id": "c3b3a4e1",
   "metadata": {},
   "source": [
    "3. Dada una lista M, retornar una nueva lista la cual tenga únicamente tenga los numeros que sean multiplos de 5 y tambien sea multiplo de 2"
   ]
  },
  {
   "cell_type": "code",
   "execution_count": 36,
   "id": "80c817b4",
   "metadata": {},
   "outputs": [
    {
     "name": "stdout",
     "output_type": "stream",
     "text": [
      "[30, 20, 40]\n"
     ]
    }
   ],
   "source": [
    "listaM = [30, 2, 15, 25, 20, 40, 7, 11, 13]\n",
    "listaX = [x for x in listaM if x%5 == 0 and x%2 == 0]\n",
    "print(listaX)\n",
    "\n",
    "# Otra forma \n"
   ]
  },
  {
   "cell_type": "markdown",
   "id": "045275e9",
   "metadata": {},
   "source": [
    "4. Generar la serie de Fionacci con los operadores, pueden guardar toda la expresión en una variable y pasar el párametro del lambda, ejemplo fibonacci(10), debería mostrar una lista con 10 elementos de la serie. No usar compresión de listas"
   ]
  },
  {
   "cell_type": "code",
   "execution_count": 10,
   "id": "f5a5938d",
   "metadata": {},
   "outputs": [
    {
     "name": "stdout",
     "output_type": "stream",
     "text": [
      "0 1 1 2 3 5 8 13 21 34 "
     ]
    }
   ],
   "source": [
    "def fibonacci(n):\n",
    "    numero = 0\n",
    "    a, b = 0, 1\n",
    "    while numero < n:\n",
    "        print(a, end=' ')\n",
    "        a, b = b, a+b\n",
    "        numero += 1\n",
    "    \n",
    "fibonacci(10)"
   ]
  },
  {
   "cell_type": "markdown",
   "id": "4cdbb989",
   "metadata": {},
   "source": [
    "5. Dado un rango de número crear una lista que contenga solamente los números que sean primos. Únicamente los números primos, si desean en este si puden usar la compresión de listas"
   ]
  },
  {
   "cell_type": "code",
   "execution_count": 21,
   "id": "8e5931b8",
   "metadata": {},
   "outputs": [
    {
     "name": "stdout",
     "output_type": "stream",
     "text": [
      "[1, 2, 3, 5, 7, 8, 10, 12, 17, 20]\n"
     ]
    }
   ],
   "source": [
    "lista = [1, 2, 3, 5, 7, 8, 10, 12, 17, 20]\n",
    "\n",
    "listaPrimos = list([x for x in lista if x%x == 0])\n",
    "print(listaPrimos)"
   ]
  },
  {
   "cell_type": "code",
   "execution_count": null,
   "id": "af1ce05a",
   "metadata": {},
   "outputs": [],
   "source": []
  }
 ],
 "metadata": {
  "kernelspec": {
   "display_name": "Python 3 (ipykernel)",
   "language": "python",
   "name": "python3"
  },
  "language_info": {
   "codemirror_mode": {
    "name": "ipython",
    "version": 3
   },
   "file_extension": ".py",
   "mimetype": "text/x-python",
   "name": "python",
   "nbconvert_exporter": "python",
   "pygments_lexer": "ipython3",
   "version": "3.8.10"
  }
 },
 "nbformat": 4,
 "nbformat_minor": 5
}
