{
 "cells": [
  {
   "cell_type": "markdown",
   "id": "9bb8ab92",
   "metadata": {},
   "source": [
    "# Programación Funcional"
   ]
  },
  {
   "cell_type": "markdown",
   "id": "f680bb1a",
   "metadata": {},
   "source": [
    "Es un paradigma de programación, es que esta basada en funciones (rápidas, optimizadas y reutilizables). \n",
    "\n",
    "Basado en funciones, nuestro principal objetivo es tomar una entrada y entregar una salida."
   ]
  },
  {
   "cell_type": "markdown",
   "id": "0010b65f",
   "metadata": {},
   "source": [
    "## 1. Funciones básicas\n",
    "\n",
    "Son funciones que son explícitamente definidas (def)"
   ]
  },
  {
   "cell_type": "code",
   "execution_count": 1,
   "id": "6da30589",
   "metadata": {},
   "outputs": [
    {
     "name": "stdout",
     "output_type": "stream",
     "text": [
      "[8, 16, 18, 20]\n"
     ]
    }
   ],
   "source": [
    "numeros = [4,8,9,10]\n",
    "def duplicarLista(listaNumeros: list):\n",
    "    listaDuplicada = []\n",
    "    for numero in numeros:\n",
    "        listaDuplicada.append(numero*2)\n",
    "    return listaDuplicada\n",
    "\n",
    "print(duplicarLista(numeros))"
   ]
  },
  {
   "cell_type": "markdown",
   "id": "4b739a91",
   "metadata": {},
   "source": [
    "## 2. Funciones basadas en expresiones (lambda)\n",
    "\n",
    "No definicion explícita de la función (no utilizamos def), mantenemos las entradas y salidas pero lo hacemos a través de una expresión simbólica que representa la función que deseamos.\n",
    "\n",
    "Estructura para las expresiones lambda\n",
    "**(expresión lambda, variables)**\n",
    "\n",
    "Ejemplo con python\n",
    "\n",
    "*(lambda: operación, datos)*"
   ]
  },
  {
   "cell_type": "code",
   "execution_count": 4,
   "id": "d5a5dd10",
   "metadata": {},
   "outputs": [
    {
     "data": {
      "text/plain": [
       "[8, 16, 18, 20]"
      ]
     },
     "execution_count": 4,
     "metadata": {},
     "output_type": "execute_result"
    }
   ],
   "source": [
    "list(map(lambda n: n*2, numeros))"
   ]
  },
  {
   "cell_type": "markdown",
   "id": "5bfec39e",
   "metadata": {},
   "source": [
    "## 3. Funciones de python útiles\n",
    "\n",
    "Range y enumerate"
   ]
  },
  {
   "cell_type": "code",
   "execution_count": 6,
   "id": "5c5addb1",
   "metadata": {},
   "outputs": [
    {
     "name": "stdout",
     "output_type": "stream",
     "text": [
      "range(1, 5)\n",
      "(0, 52.2)\n",
      "(1, 65.58)\n",
      "(2, -0.29)\n"
     ]
    }
   ],
   "source": [
    "# Range permite generar un rango de números\n",
    "rango = range(1,5)\n",
    "print(rango)\n",
    "\n",
    "numeros2 = [52.2, 65.58, -0.29]\n",
    "# Enumerate: enumera los elementos\n",
    "enumerate(numeros2)\n",
    "for enumeracion in enumerate(numeros2):\n",
    "    print(enumeracion)"
   ]
  },
  {
   "cell_type": "markdown",
   "id": "7e84cef7",
   "metadata": {},
   "source": [
    "## 4. Operaciones en la programación funcional (map, zip, filter y reduce)\n",
    "\n",
    "Son operaciones reservadas y permiten aplicar nuestras expresiones de difernetes formas "
   ]
  },
  {
   "cell_type": "markdown",
   "id": "5cb257ff",
   "metadata": {},
   "source": [
    "### Map:\n",
    "\n",
    "Aplicar la operación sobre todos los elementos"
   ]
  },
  {
   "cell_type": "code",
   "execution_count": 10,
   "id": "69b6634f",
   "metadata": {},
   "outputs": [
    {
     "name": "stdout",
     "output_type": "stream",
     "text": [
      "7225\n",
      "9025\n",
      "8836\n",
      "[7225, 9025, 8836]\n",
      "[7225, 9025, 8836]\n"
     ]
    }
   ],
   "source": [
    "## Previamente\n",
    "\n",
    "def elevarCuadrado(item):\n",
    "    return item**2\n",
    "numeros3 = [85,95,94]\n",
    "\n",
    "for i in numeros3:\n",
    "    print(elevarCuadrado(i))\n",
    "    \n",
    "## Map\n",
    "\n",
    "print(list(map(elevarCuadrado, numeros3)))\n",
    "\n",
    "## Map bien hecho\n",
    "print(list(map(lambda x: x**2, numeros3)))"
   ]
  },
  {
   "cell_type": "markdown",
   "id": "128e816d",
   "metadata": {},
   "source": [
    "### Zip:\n",
    "\n",
    "Operación que nos permite comprimir dos estructuras (unir), las estructuras que le paso deben ser iterables, realiza la compresión hasta donde es posible"
   ]
  },
  {
   "cell_type": "code",
   "execution_count": 12,
   "id": "0b8954f4",
   "metadata": {},
   "outputs": [
    {
     "name": "stdout",
     "output_type": "stream",
     "text": [
      "[(50, 100), (70, 200), (80, 300)]\n",
      "[(99, 100), (100, 200), (101, 300)]\n"
     ]
    }
   ],
   "source": [
    "listaA = [50,70,80]\n",
    "listaB = [100,200,300]\n",
    "tuplaC = (99,100,101)\n",
    "print(list(zip(listaA, listaB)))\n",
    "print(list(zip(tuplaC, listaB)))"
   ]
  },
  {
   "cell_type": "markdown",
   "id": "fd51520b",
   "metadata": {},
   "source": [
    "### Filter:\n",
    "\n",
    "Operación que permite filtrar datos basados en una condición"
   ]
  },
  {
   "cell_type": "code",
   "execution_count": 18,
   "id": "55d231cb",
   "metadata": {},
   "outputs": [
    {
     "name": "stdout",
     "output_type": "stream",
     "text": [
      "['Anderson', 'Andres', 'Andres2']\n",
      "['Anderson', 'Andres', 'Andres2']\n"
     ]
    }
   ],
   "source": [
    "expresionEmpiezaA = lambda x: True if x.startswith('A') else False\n",
    "nombres = ['Anderson', 'Andres', 'Andres2', 'Bryan', 'Cristo', 'Freddy', 'Janeth']\n",
    "\n",
    "print(list(filter(lambda y: expresionEmpiezaA(y), nombres)))\n",
    "print(list(filter(lambda x: True if x.startswith('A') else False, nombres)))"
   ]
  },
  {
   "cell_type": "markdown",
   "id": "35319add",
   "metadata": {},
   "source": [
    "### Reduce \n",
    "\n",
    "Acumular valores f(g(h(i)))"
   ]
  },
  {
   "cell_type": "code",
   "execution_count": 19,
   "id": "eacce190",
   "metadata": {},
   "outputs": [
    {
     "name": "stdout",
     "output_type": "stream",
     "text": [
      "28\n"
     ]
    }
   ],
   "source": [
    "from functools import reduce\n",
    "\n",
    "def acumulador(n1,n2):\n",
    "    return n1 + n2\n",
    "\n",
    "print(reduce(acumulador, [2,5,6,7,8]))\n",
    "\n",
    "# \n",
    "# ((((2 + 5) + 6) + 7) + 8)"
   ]
  },
  {
   "cell_type": "markdown",
   "id": "e070eba9",
   "metadata": {},
   "source": [
    "### 5. Decoradores"
   ]
  },
  {
   "cell_type": "code",
   "execution_count": null,
   "id": "eb9d3582",
   "metadata": {},
   "outputs": [],
   "source": []
  }
 ],
 "metadata": {
  "kernelspec": {
   "display_name": "Python 3 (ipykernel)",
   "language": "python",
   "name": "python3"
  },
  "language_info": {
   "codemirror_mode": {
    "name": "ipython",
    "version": 3
   },
   "file_extension": ".py",
   "mimetype": "text/x-python",
   "name": "python",
   "nbconvert_exporter": "python",
   "pygments_lexer": "ipython3",
   "version": "3.8.10"
  }
 },
 "nbformat": 4,
 "nbformat_minor": 5
}
